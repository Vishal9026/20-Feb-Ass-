{
 "cells": [
  {
   "cell_type": "code",
   "execution_count": 1,
   "id": "db191207-d937-42f9-8ce8-dcf6c955f97a",
   "metadata": {},
   "outputs": [],
   "source": [
    "# Answer-1)\n",
    "# GET Request GET requests is used to retrieve resource representation/information only – and not modify it in any way.As GET requests do not change the resource’s state, these are said to be safe methods.\n",
    "\n",
    "# Additionally, GET APIs should be idempotent. Making multiple identical requests must produce the same result every time until another API (POST or PUT) has changed the state of the resource on the server.\n",
    "\n",
    "# POST Request POST request is used to create new subordinate resources, e.g., a file is subordinate to a directory containing it or a row is subordinate to a database table.\n",
    "\n",
    "# POST is neither safe nor idempotent, and invoking two identical POST requests will result in two different resources containing the same information (except resource ids)."
   ]
  },
  {
   "cell_type": "code",
   "execution_count": 2,
   "id": "8eb9134e-ec29-418b-9b07-97f89d8d87f7",
   "metadata": {},
   "outputs": [],
   "source": [
    "# ANSWER-2)\n",
    "# The Request, in Flask, is an object that contains all the data sent from the Client to Server. This data can be recovered using the GET/POST Methods"
   ]
  },
  {
   "cell_type": "code",
   "execution_count": 3,
   "id": "0c4f38fb-3c04-4502-a941-c8dd160246b1",
   "metadata": {},
   "outputs": [],
   "source": [
    "# ANSWER-3)\n",
    "# Flask class has a redirect() function. When called, it returns a response object and redirects the user to another target location with specified status code. location parameter is the URL where response should be redirected."
   ]
  },
  {
   "cell_type": "code",
   "execution_count": 4,
   "id": "f043bfa9-35df-4d42-b2cd-1ed5e5e7ac13",
   "metadata": {},
   "outputs": [],
   "source": [
    "# ANSWERT-4)\n",
    "# Templates are files that contain static data as well as placeholders for dynamic data. A template is rendered with specific data to produce a final document. Flask uses the Jinja template library to render templates.\n",
    "\n",
    "# render_template is a Flask function from the flask.templating package. render_template is used to generate output from a template file based on the Jinja2 engine that is found in the application's templates folder."
   ]
  },
  {
   "cell_type": "code",
   "execution_count": 5,
   "id": "4f8b43bb-2f8b-4f83-9ec8-59e20deca0af",
   "metadata": {},
   "outputs": [],
   "source": [
    "# ANSWER-5)\n",
    "# from flask import Flask\n",
    "# from flask import request\n",
    "# app = Flask(__name__)\n",
    "\n",
    "# @app.route(\"/name\")\n",
    "# def name():\n",
    "#     data = request.args.get(\"name\")\n",
    "#     return \"my shall {}\".format(data)\n",
    "\n",
    "\n",
    "# if __name__==\"__main__\":\n",
    "#     app.run(host='0.0.0.0', port=7000, debug=True)"
   ]
  },
  {
   "attachments": {
    "6b045252-43dd-45d9-8ac8-619e41fdaa82.PNG": {
     "image/png": "[encoded data removed]"
    }
   },
   "cell_type": "markdown",
   "id": "f1a7c472-49c9-4e71-84a7-384a0134385f",
   "metadata": {},
   "source": [
    "![name.PNG](attachment:6b045252-43dd-45d9-8ac8-619e41fdaa82.PNG)"
   ]
  },
  {
   "cell_type": "code",
   "execution_count": null,
   "id": "6baeb165-9af6-473b-97f7-c3c6e50bdd07",
   "metadata": {},
   "outputs": [],
   "source": []
  },
  {
   "cell_type": "code",
   "execution_count": null,
   "id": "456b826c-5c17-4dc5-9f5c-6c54addc1ecf",
   "metadata": {},
   "outputs": [],
   "source": []
  }
 ],
 "metadata": {
  "kernelspec": {
   "display_name": "Python 3 (ipykernel)",
   "language": "python",
   "name": "python3"
  },
  "language_info": {
   "codemirror_mode": {
    "name": "ipython",
    "version": 3
   },
   "file_extension": ".py",
   "mimetype": "text/x-python",
   "name": "python",
   "nbconvert_exporter": "python",
   "pygments_lexer": "ipython3",
   "version": "3.10.8"
  }
 },
 "nbformat": 4,
 "nbformat_minor": 5
}
